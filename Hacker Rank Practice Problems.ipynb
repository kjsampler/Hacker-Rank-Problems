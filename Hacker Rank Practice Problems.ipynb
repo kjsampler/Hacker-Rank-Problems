{
 "cells": [
  {
   "cell_type": "markdown",
   "metadata": {},
   "source": [
    "Given an integer n perform the following conditional actions:\n",
    "\n",
    "If n is odd, print Weird\n",
    "If n is even and in the inclusive range of 2 to 5, print Not Weird\n",
    "If n is even and in the inclusive range of 6 to 20, print Weird\n",
    "If n is even and greater than 20, print Not Weird"
   ]
  },
  {
   "cell_type": "code",
   "execution_count": null,
   "metadata": {},
   "outputs": [],
   "source": [
    "n = input()\n",
    "n = float(n)\n",
    "\n",
    "if 0<n<=100:\n",
    "    \n",
    "    if n%2 != 0:\n",
    "        print(\"Weird\")\n",
    "    if n%2 == 0:\n",
    "        if 2<=n<=5:\n",
    "            print(\"Not Weird\")\n",
    "    if n%2 == 0:\n",
    "        if 6<=n<=20:\n",
    "            print(\"Weird\")\n",
    "    if n%2 == 0:\n",
    "        if n>20:\n",
    "            print(\"Not Weird\")"
   ]
  },
  {
   "cell_type": "markdown",
   "metadata": {},
   "source": [
    "The provided code stub reads two integers from STDIN, a and b. Add code to print three lines where:\n",
    "\n",
    "The first line contains the sum of the two numbers.\n",
    "The second line contains the difference of the two numbers (first - second).\n",
    "The third line contains the product of the two numbers.\n",
    "\n",
    "Constraints:\n",
    "1 <= a <= 10^10\n",
    "1 <= b <= 10^10"
   ]
  },
  {
   "cell_type": "code",
   "execution_count": 2,
   "metadata": {},
   "outputs": [
    {
     "name": "stdout",
     "output_type": "stream",
     "text": [
      "3\n",
      "5\n",
      "8\n",
      "-2\n",
      "15\n"
     ]
    }
   ],
   "source": [
    "#Provided Code:\n",
    "if __name__ == '__main__':\n",
    "    a = int(input())\n",
    "    b = int(input())\n",
    "    \n",
    "if 1<=a<= 10**10:\n",
    "    if 1<= b <= 10**10:\n",
    "        print(a + b)\n",
    "        print(a - b)\n",
    "        print(a * b)"
   ]
  },
  {
   "cell_type": "markdown",
   "metadata": {},
   "source": [
    "The provided code stub reads two integers, a and b, from STDIN.\n",
    "\n",
    "Add logic to print two lines. The first line should contain the result of integer division,  a//b . The second line should contain the result of float division,  a/b .\n",
    "\n",
    "No rounding or formatting is necessary."
   ]
  },
  {
   "cell_type": "code",
   "execution_count": 3,
   "metadata": {},
   "outputs": [
    {
     "name": "stdout",
     "output_type": "stream",
     "text": [
      "3\n",
      "5\n",
      "0\n",
      "0.6\n"
     ]
    }
   ],
   "source": [
    "#Provided Code:\n",
    "if __name__ == '__main__':\n",
    "    a = int(input())\n",
    "    b = int(input())\n",
    "    \n",
    "print(a//b)\n",
    "print(a/b)"
   ]
  },
  {
   "cell_type": "markdown",
   "metadata": {},
   "source": [
    "The provided code stub reads and integer, i, from STDIN. For all non-negative integers i<n, print i^2.\n",
    "\n",
    "Constraints:\n",
    "1 <= n <= 20"
   ]
  },
  {
   "cell_type": "code",
   "execution_count": 4,
   "metadata": {},
   "outputs": [
    {
     "name": "stdout",
     "output_type": "stream",
     "text": [
      "5\n",
      "0\n",
      "1\n",
      "4\n",
      "9\n",
      "16\n"
     ]
    }
   ],
   "source": [
    "#Provided Code:\n",
    "if __name__ == '__main__':\n",
    "    n = int(input())\n",
    "    \n",
    "if 1 <= n <= 20:\n",
    "    for i in range(n):\n",
    "        print(i**2)"
   ]
  },
  {
   "cell_type": "markdown",
   "metadata": {},
   "source": [
    "An extra day is added to the calendar almost every four years as February 29, and the day is called a leap day. It corrects the calendar for the fact that our planet takes approximately 365.25 days to orbit the sun. A leap year contains a leap day.\n",
    "\n",
    "In the Gregorian calendar, three conditions are used to identify leap years:\n",
    "\n",
    "The year can be evenly divided by 4, is a leap year, unless:\n",
    "The year can be evenly divided by 100, it is NOT a leap year, unless:\n",
    "The year is also evenly divisible by 400. Then it is a leap year.\n",
    "This means that in the Gregorian calendar, the years 2000 and 2400 are leap years, while 1800, 1900, 2100, 2200, 2300 and 2500 are NOT leap years.\n",
    "\n",
    "Task\n",
    "\n",
    "Given a year, determine whether it is a leap year. If it is a leap year, return the Boolean True, otherwise return False.\n",
    "\n",
    "Note that the code stub provided reads from STDIN and passes arguments to the is_leap function. It is only necessary to complete the is_leap function.\n",
    "\n",
    "Constraints:\n",
    "1900 <= year <= 10^5"
   ]
  },
  {
   "cell_type": "code",
   "execution_count": 65,
   "metadata": {},
   "outputs": [
    {
     "name": "stdout",
     "output_type": "stream",
     "text": [
      "2000\n",
      "True\n"
     ]
    }
   ],
   "source": [
    "def is_leap(year):\n",
    "    leap = False\n",
    "    if 1900 <= year <= 10**5:\n",
    "        if year%4 == 0:\n",
    "            leap = True\n",
    "        if year%100 == 0:\n",
    "            leap = False   \n",
    "        if year%400 == 0:\n",
    "            if year%100 == 0:\n",
    "                leap = True\n",
    "                    \n",
    "    return leap\n",
    "\n",
    "year = int(input())\n",
    "print(is_leap(year))"
   ]
  },
  {
   "cell_type": "code",
   "execution_count": null,
   "metadata": {},
   "outputs": [],
   "source": []
  }
 ],
 "metadata": {
  "kernelspec": {
   "display_name": "Python 3",
   "language": "python",
   "name": "python3"
  },
  "language_info": {
   "codemirror_mode": {
    "name": "ipython",
    "version": 3
   },
   "file_extension": ".py",
   "mimetype": "text/x-python",
   "name": "python",
   "nbconvert_exporter": "python",
   "pygments_lexer": "ipython3",
   "version": "3.7.3"
  }
 },
 "nbformat": 4,
 "nbformat_minor": 2
}
