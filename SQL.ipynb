{
 "cells": [
  {
   "cell_type": "markdown",
   "metadata": {},
   "source": [
    "# SQL Practice Problems"
   ]
  },
  {
   "cell_type": "code",
   "execution_count": 1,
   "metadata": {},
   "outputs": [
    {
     "name": "stdout",
     "output_type": "stream",
     "text": [
      "Collecting mysql\n",
      "  Downloading mysql-0.0.2.tar.gz (1.9 kB)\n",
      "Collecting mysqlclient\n",
      "  Downloading mysqlclient-2.0.3-cp37-cp37m-win_amd64.whl (178 kB)\n",
      "Building wheels for collected packages: mysql\n",
      "  Building wheel for mysql (setup.py): started\n",
      "  Building wheel for mysql (setup.py): finished with status 'done'\n",
      "  Created wheel for mysql: filename=mysql-0.0.2-py3-none-any.whl size=1246 sha256=f9eaee141e45762cf0fb256c4841769ff56929296aea2ddc350b56c7091b6be9\n",
      "  Stored in directory: c:\\users\\kayce_000\\appdata\\local\\pip\\cache\\wheels\\f6\\60\\6d\\b1cf0653d003ddb0be2985a4d5f2c6f977d91f0862df094de8\n",
      "Successfully built mysql\n",
      "Installing collected packages: mysqlclient, mysql\n",
      "Successfully installed mysql-0.0.2 mysqlclient-2.0.3\n",
      "Note: you may need to restart the kernel to use updated packages.\n"
     ]
    }
   ],
   "source": [
    "pip install mysql"
   ]
  },
  {
   "cell_type": "markdown",
   "metadata": {},
   "source": [
    "Query all columns for all American cities in the CITY table with populations larger than 100000. The CountryCode for America is USA."
   ]
  },
  {
   "cell_type": "code",
   "execution_count": null,
   "metadata": {},
   "outputs": [],
   "source": [
    "#hang on. this may not be the best method for recording Hacker Rank probs.\n",
    "#I will have to fill this with my own practice probs"
   ]
  }
 ],
 "metadata": {
  "kernelspec": {
   "display_name": "Python 3",
   "language": "python",
   "name": "python3"
  },
  "language_info": {
   "codemirror_mode": {
    "name": "ipython",
    "version": 3
   },
   "file_extension": ".py",
   "mimetype": "text/x-python",
   "name": "python",
   "nbconvert_exporter": "python",
   "pygments_lexer": "ipython3",
   "version": "3.7.3"
  }
 },
 "nbformat": 4,
 "nbformat_minor": 2
}
